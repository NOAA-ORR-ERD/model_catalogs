{
 "cells": [
  {
   "cell_type": "markdown",
   "id": "843fd2ae-5e1a-4bcd-a718-4578a7589dcc",
   "metadata": {},
   "source": [
    "# Demo Workflow"
   ]
  },
  {
   "cell_type": "code",
   "execution_count": null,
   "id": "9d2ca93f-dad6-4f20-9673-9591e160cdde",
   "metadata": {},
   "outputs": [],
   "source": [
    "import os\n",
    "import warnings\n",
    "\n",
    "import intake\n",
    "import shapely.wkt\n",
    "import pandas as pd\n",
    "import xarray as xr\n",
    "\n",
    "import model_catalogs as mc"
   ]
  },
  {
   "cell_type": "code",
   "execution_count": null,
   "id": "cf6adaaf-2ecc-44d9-a5fd-960d03676185",
   "metadata": {},
   "outputs": [],
   "source": [
    "# suppess warnings when building \"complete\" model files in dependencies\n",
    "warnings.filterwarnings('ignore')"
   ]
  },
  {
   "cell_type": "markdown",
   "id": "b20ed50f-35a7-4ba4-a5ff-de9542b8787c",
   "metadata": {},
   "source": [
    "## Source catalog\n",
    "\n",
    "This is useful for getting baseline metadata about a model. The source catalog is all hard-wired and does not access the actual model files."
   ]
  },
  {
   "cell_type": "code",
   "execution_count": null,
   "id": "e82579da-684f-4b3c-a86c-8deed7e2725a",
   "metadata": {},
   "outputs": [],
   "source": [
    "source_cat = mc.setup_source_catalog()"
   ]
  },
  {
   "cell_type": "markdown",
   "id": "cb5046e0-554e-449c-963d-2b9f07a5a1cf",
   "metadata": {},
   "source": [
    "See what model options are available with:"
   ]
  },
  {
   "cell_type": "code",
   "execution_count": null,
   "id": "d23a4a0e-9e4e-4496-81bd-3ee8802b8b50",
   "metadata": {},
   "outputs": [],
   "source": [
    "list(source_cat)"
   ]
  },
  {
   "cell_type": "markdown",
   "id": "03c8bfc2-2060-4dcb-825f-c23a77768fb4",
   "metadata": {},
   "source": [
    "### Complete source catalog files\n",
    "\n",
    "If the \"complete\" versions of the models, which contain the boundary information for the model, are not yet available, a message will print and you can run them with:\n",
    "\n",
    "`source_cat = mc.complete_source_catalog()`\n",
    "\n",
    "Or, if you know you want to rerun the \"complete\" model files you can just force it to rerun them all by calling `source_cat = mc.complete_source_catalog()` in the first place. Or, delete the \"complete\" catalog directory."
   ]
  },
  {
   "cell_type": "code",
   "execution_count": null,
   "id": "a92c62f1-2f76-4fb7-b527-3442f9520d7c",
   "metadata": {
    "tags": []
   },
   "outputs": [],
   "source": [
    "%%time\n",
    "source_cat = mc.complete_source_catalog()"
   ]
  },
  {
   "cell_type": "markdown",
   "id": "1d6e5100-b113-475c-b6bb-ee8729f6dc31",
   "metadata": {
    "tags": []
   },
   "source": [
    "### Examine metadata of models in source catalog\n",
    "\n",
    "Now the source catalog has all hard-wired information about the models plus the domain boundary information. This is available in `source_cat`. "
   ]
  },
  {
   "cell_type": "markdown",
   "id": "116ad952-625a-4ba9-b601-7e10c8bbe797",
   "metadata": {},
   "source": [
    "#### Domain boundaries"
   ]
  },
  {
   "cell_type": "code",
   "execution_count": null,
   "id": "1a12d63a-bed0-46e3-8366-3b86f72b8b9a",
   "metadata": {},
   "outputs": [],
   "source": [
    "P = shapely.wkt.loads(source_cat['CBOFS'].metadata['geospatial_bounds'])\n",
    "P"
   ]
  },
  {
   "cell_type": "markdown",
   "id": "b6ccc0ea-2600-48b9-99e5-69b075d87f96",
   "metadata": {},
   "source": [
    "#### Variables\n",
    "\n",
    "A mapping for the relevant variables to NOAA applications has been written into each source catalog. The mapping is between a standard CF convention variable name to the model dataset variable name. The list of possible variables used is:\n",
    "\n",
    "        eastward_sea_water_velocity\n",
    "        eastward_wind\n",
    "        northward_sea_water_velocity\n",
    "        northward_wind\n",
    "        sea_floor_depth\n",
    "        sea_ice_area_fraction\n",
    "        sea_ice_thickness\n",
    "        sea_surface_height_above_mean_sea_level\n",
    "        sea_water_temperature\n",
    "        sea_water_practical_salinity\n",
    "        time\n",
    "        upward_sea_water_velocity\n",
    "\n",
    "Examine the variable mapping for a given model:"
   ]
  },
  {
   "cell_type": "code",
   "execution_count": null,
   "id": "1b45fea9-7a72-4e3b-a3a9-b208cfc9b202",
   "metadata": {},
   "outputs": [],
   "source": [
    "source_cat['CBOFS']['forecast'].metadata['standard_names']"
   ]
  },
  {
   "cell_type": "markdown",
   "id": "9f256df3-e6f9-47ae-8e8b-6ba830833a4b",
   "metadata": {},
   "source": [
    "## Find available for model output\n",
    "\n",
    "You can query a specific model for its availability for specifically the forecast and hindcast timing, as below. This is not a necessary step, but is useful for a user choosing the model to use and what is possible. The date range information is saved in an \"updated\" version of the model catalog file.\n",
    "\n",
    "This will take 10 seconds to 1 minute if the model availability has not been checked recently \"enough\", according to a \"stale\" parameter. Currently a forecast is stale after 4 hours and a hindcast is stale after 1 day."
   ]
  },
  {
   "cell_type": "code",
   "execution_count": null,
   "id": "3cdc3682-35dd-44ff-9abe-b7dc8c82d3d9",
   "metadata": {},
   "outputs": [],
   "source": [
    "%%time\n",
    "cat = mc.find_availability(model='CIOFS')"
   ]
  },
  {
   "cell_type": "code",
   "execution_count": null,
   "id": "bafa4c92-4e5b-4048-8f5e-59d7257a3c6a",
   "metadata": {},
   "outputs": [],
   "source": [
    "intake.open_catalog(cat.path)"
   ]
  },
  {
   "cell_type": "markdown",
   "id": "e4246c27-13fa-4825-8cbd-60ad9bcbbbf9",
   "metadata": {},
   "source": [
    "This is fast the second time when the \"updated\" version of the model catalog is fresh instead of stale."
   ]
  },
  {
   "cell_type": "code",
   "execution_count": null,
   "id": "df9a6aa9-eb33-4181-9c91-314c0073059d",
   "metadata": {},
   "outputs": [],
   "source": [
    "%%time\n",
    "cat = mc.find_availability(model='CIOFS')"
   ]
  },
  {
   "cell_type": "markdown",
   "id": "6b3260d6-a179-47a3-9930-033247a3a641",
   "metadata": {},
   "source": [
    "Timing metadata is now available:"
   ]
  },
  {
   "cell_type": "code",
   "execution_count": null,
   "id": "9266223b-c8f2-4768-bb2a-e78ddadec86b",
   "metadata": {},
   "outputs": [],
   "source": [
    "print('forecast: ', cat['forecast'].metadata['start_datetime'], ' to ', cat['forecast'].metadata['end_datetime'])\n",
    "print('hindcast: ', cat['hindcast'].metadata['start_datetime'], ' to ', cat['hindcast'].metadata['end_datetime'])"
   ]
  },
  {
   "cell_type": "markdown",
   "id": "42d083bc-b8f0-4444-977f-78604ed1a167",
   "metadata": {},
   "source": [
    "## Request model output for desired date range\n",
    "\n",
    "Use this to then actually read model output in. Since `find_availability` was previous run, the model knows when it is available and can decide which source to use for the user-defined date range, as shown here. This uses the catalog file found from running `find_availability()`."
   ]
  },
  {
   "cell_type": "code",
   "execution_count": null,
   "id": "b00a1aa4-b0f5-449e-a43a-74e75afbc42f",
   "metadata": {
    "tags": []
   },
   "outputs": [],
   "source": [
    "%%time\n",
    "start_date = '2020-01-01'\n",
    "cat = mc.add_url_path(cat, start_date=start_date, end_date=start_date)\n",
    "cat"
   ]
  },
  {
   "cell_type": "markdown",
   "id": "6a3c84cb-4a4e-4806-b89f-b7b194be6338",
   "metadata": {},
   "source": [
    "An alternative approach is to skip the `find_availability` step, instead use the catalog directly from the source catalog, and input the source timing to use with the date range — this will save a little time for the power user that already has a good guess as to what will work (as opposed to also having to run `find_availability()` first)."
   ]
  },
  {
   "cell_type": "code",
   "execution_count": null,
   "id": "42c86f9b-b257-4932-bf9a-d947c1b1cbc0",
   "metadata": {
    "tags": []
   },
   "outputs": [],
   "source": [
    "%%time\n",
    "\n",
    "source_cat = mc.setup_source_catalog()\n",
    "\n",
    "today = pd.Timestamp.today()\n",
    "\n",
    "model = \"LMHOFS\"\n",
    "cat2 = mc.add_url_path(source_cat[model], timing=\"nowcast\", start_date=today, end_date=today)\n",
    "cat2"
   ]
  },
  {
   "cell_type": "markdown",
   "id": "d2f5e540-bec2-423a-828e-e76ec8112cdb",
   "metadata": {},
   "source": [
    "## Read in model output"
   ]
  },
  {
   "cell_type": "code",
   "execution_count": null,
   "id": "33b3f343-72e1-4e66-9fca-5953fc4652ff",
   "metadata": {},
   "outputs": [],
   "source": [
    "%%time\n",
    "ds = cat['CIOFS'].to_dask()\n",
    "ds"
   ]
  },
  {
   "cell_type": "markdown",
   "id": "d40c5cc2-fe12-4852-8b8a-272b599768a1",
   "metadata": {},
   "source": [
    "## Other topics"
   ]
  },
  {
   "cell_type": "markdown",
   "id": "d3b44e4a-979d-4ed6-bf60-fd1e717b61ef",
   "metadata": {},
   "source": [
    "### NOAA OFS models: how to use filetypes besides default 3D \"fields\"\n",
    "\n",
    "All NOAA OFS model configurations are available with 3D fields filetypes. However, for some models there are other filetypes:\n",
    "* `regular_grid`: model output interpolated to rectilinear grid\n",
    "* `2ds`: only surface model output, variable names changed\n",
    "\n",
    "You can see what model configurations are available, specifically including filetypes, by looking at the source catalog:"
   ]
  },
  {
   "cell_type": "code",
   "execution_count": null,
   "id": "054af3c6-8e0a-4477-99b3-263997e5224d",
   "metadata": {},
   "outputs": [],
   "source": [
    "list(source_cat)"
   ]
  },
  {
   "cell_type": "code",
   "execution_count": null,
   "id": "03a2728d-0512-442a-9c53-792ba907546b",
   "metadata": {},
   "outputs": [],
   "source": [
    "start_date = pd.Timestamp.today()\n",
    "cat3 = mc.add_url_path(source_cat['TBOFS_REGULARGRID'], timing='forecast', start_date=start_date, end_date=start_date)\n",
    "ds3 = cat3['TBOFS_REGULARGRID'].to_dask()\n",
    "ds3"
   ]
  },
  {
   "cell_type": "markdown",
   "id": "3149c327-5cdc-4118-ba9c-e83f646621ed",
   "metadata": {},
   "source": [
    "### Access variables and axis\n",
    "\n",
    "Metadata has been added to the model Datasets to facilitate certain variable and axis accessibility. The variable access is set up by adding standard variable names to the datasets when they are opened, based on the variables available, and the axis accessibility is first by adding some attributes and then by using `cf-xarray`. See the following examples.\n",
    "\n",
    "Filter an xarray Dataset by the attribute of `standard_name` (returns an xarray Dataset):"
   ]
  },
  {
   "cell_type": "code",
   "execution_count": null,
   "id": "4ca4564e-bbee-4276-8836-066613aff365",
   "metadata": {},
   "outputs": [],
   "source": [
    "ds.filter_by_attrs(standard_name='sea_water_practical_salinity')"
   ]
  },
  {
   "cell_type": "markdown",
   "id": "571316d3-46aa-46f9-afeb-8c5f081fd1d3",
   "metadata": {},
   "source": [
    "Alternatively, you could back out the variable name and use it directly (returns an xarray DataArray):"
   ]
  },
  {
   "cell_type": "code",
   "execution_count": null,
   "id": "66376319-b8b5-476e-b50a-244043b1ec0e",
   "metadata": {},
   "outputs": [],
   "source": [
    "varname = cat['CIOFS'].metadata['standard_names']['sea_water_practical_salinity']\n",
    "ds[varname]"
   ]
  },
  {
   "cell_type": "markdown",
   "id": "5457e57c-8d84-4dba-b892-13cdf563ec37",
   "metadata": {},
   "source": [
    "Refer to time axis without knowing the time variable name with `cf-xarray`:"
   ]
  },
  {
   "cell_type": "code",
   "execution_count": null,
   "id": "b93bc697-87da-40d2-81f1-1345431623a1",
   "metadata": {},
   "outputs": [],
   "source": [
    "ds.cf['T']"
   ]
  }
 ],
 "metadata": {
  "kernelspec": {
   "display_name": "Python 3 (ipykernel)",
   "language": "python",
   "name": "python3"
  },
  "language_info": {
   "codemirror_mode": {
    "name": "ipython",
    "version": 3
   },
   "file_extension": ".py",
   "mimetype": "text/x-python",
   "name": "python",
   "nbconvert_exporter": "python",
   "pygments_lexer": "ipython3",
   "version": "3.8.13"
  }
 },
 "nbformat": 4,
 "nbformat_minor": 5
}
