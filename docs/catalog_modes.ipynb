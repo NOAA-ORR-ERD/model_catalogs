{
 "cells": [
  {
   "cell_type": "code",
   "execution_count": 1,
   "metadata": {},
   "outputs": [],
   "source": [
    "import model_catalogs as mc\n",
    "import intake\n",
    "from tempfile import TemporaryDirectory\n",
    "from pathlib import PurePath\n",
    "import xarray as xr\n",
    "import numpy as np"
   ]
  },
  {
   "cell_type": "markdown",
   "metadata": {},
   "source": [
    "# Different Modes for Catalog Use\n",
    "\n",
    "`model_catalogs`, as of v0.6.0, can use catalog files flexibly. This page demonstrates some of the uses.\n",
    "\n",
    "You can install your catalog files or use local versions. Catalogs that are meant to be used long-term should be installed as Python packages. Once they are installed, they are available through the default `intake` catalog. See information on how to install your catalog files in the `docs page<add_model>`_.\n",
    "\n",
    "See all available installed catalogs with:"
   ]
  },
  {
   "cell_type": "code",
   "execution_count": 2,
   "metadata": {},
   "outputs": [
    {
     "data": {
      "text/plain": [
       "['mc_CBOFS',\n",
       " 'mc_CBOFS_RGRID',\n",
       " 'mc_CIOFS',\n",
       " 'mc_CIOFS_RGRID',\n",
       " 'mc_CREOFS',\n",
       " 'mc_CREOFS_RGRID',\n",
       " 'mc_DBOFS',\n",
       " 'mc_DBOFS_RGRID',\n",
       " 'mc_GFS_1DEG',\n",
       " 'mc_GFS_1_2DEG',\n",
       " 'mc_GFS_1_4DEG',\n",
       " 'mc_GOFS',\n",
       " 'mc_GOMOFS',\n",
       " 'mc_GOMOFS_2DS',\n",
       " 'mc_GOMOFS_RGRID',\n",
       " 'mc_LEOFS',\n",
       " 'mc_LEOFS_RGRID',\n",
       " 'mc_LMHOFS',\n",
       " 'mc_LMHOFS_RGRID',\n",
       " 'mc_LOOFS',\n",
       " 'mc_LOOFS_FVCOM',\n",
       " 'mc_LSOFS',\n",
       " 'mc_LSOFS_FVCOM',\n",
       " 'mc_NGOFS2',\n",
       " 'mc_NGOFS2_2DS',\n",
       " 'mc_NGOFS2_RGRID',\n",
       " 'mc_NYOFS',\n",
       " 'mc_RTOFS',\n",
       " 'mc_RTOFS_2D',\n",
       " 'mc_RTOFS_AK',\n",
       " 'mc_RTOFS_EAST',\n",
       " 'mc_RTOFS_WEST',\n",
       " 'mc_SFBOFS',\n",
       " 'mc_SFBOFS_RGRID',\n",
       " 'mc_TBOFS',\n",
       " 'mc_TBOFS_RGRID',\n",
       " 'mc_WCOFS',\n",
       " 'mc_WCOFS_2DS',\n",
       " 'mc_WCOFS_RGRID']"
      ]
     },
     "execution_count": 2,
     "metadata": {},
     "output_type": "execute_result"
    }
   ],
   "source": [
    "list(intake.cat)"
   ]
  },
  {
   "cell_type": "markdown",
   "metadata": {},
   "source": [
    "Installed catalogs to be used with `model_catalogs` should have a specified prefix ending with an underscore so they can be easily selected from the default catalog. `model_catalogs` required the installation of [`mc-goods`](https://github.com/axiom-data-science/mc-goods), a package of model catalogs, which have the prefix \"mc_\". "
   ]
  },
  {
   "cell_type": "markdown",
   "metadata": {},
   "source": [
    "# With or without `mc.setup()`\n",
    "\n",
    "The default behavior is to read in the `mc-goods` catalogs, as follows"
   ]
  },
  {
   "cell_type": "code",
   "execution_count": 3,
   "metadata": {},
   "outputs": [
    {
     "data": {
      "text/plain": [
       "['CBOFS',\n",
       " 'CBOFS_RGRID',\n",
       " 'CIOFS',\n",
       " 'CIOFS_RGRID',\n",
       " 'CREOFS',\n",
       " 'CREOFS_RGRID',\n",
       " 'DBOFS',\n",
       " 'DBOFS_RGRID',\n",
       " 'GFS_1DEG',\n",
       " 'GFS_1_2DEG',\n",
       " 'GFS_1_4DEG',\n",
       " 'GOFS',\n",
       " 'GOMOFS',\n",
       " 'GOMOFS_2DS',\n",
       " 'GOMOFS_RGRID',\n",
       " 'LEOFS',\n",
       " 'LEOFS_RGRID',\n",
       " 'LMHOFS',\n",
       " 'LMHOFS_RGRID',\n",
       " 'LOOFS',\n",
       " 'LOOFS_FVCOM',\n",
       " 'LSOFS',\n",
       " 'LSOFS_FVCOM',\n",
       " 'NGOFS2',\n",
       " 'NGOFS2_2DS',\n",
       " 'NGOFS2_RGRID',\n",
       " 'NYOFS',\n",
       " 'RTOFS',\n",
       " 'RTOFS_2D',\n",
       " 'RTOFS_AK',\n",
       " 'RTOFS_EAST',\n",
       " 'RTOFS_WEST',\n",
       " 'SFBOFS',\n",
       " 'SFBOFS_RGRID',\n",
       " 'TBOFS',\n",
       " 'TBOFS_RGRID',\n",
       " 'WCOFS',\n",
       " 'WCOFS_2DS',\n",
       " 'WCOFS_RGRID']"
      ]
     },
     "execution_count": 3,
     "metadata": {},
     "output_type": "execute_result"
    }
   ],
   "source": [
    "main_cat = mc.setup()  # default `locs=\"mc_\"`\n",
    "list(main_cat)"
   ]
  },
  {
   "cell_type": "markdown",
   "metadata": {},
   "source": [
    "If you have other catalogs available in the default catalog, you can instead input that prefix so the relevant catalogs can be found. For example, if the catalogs are installed with the prefix \"other_\", you can set up your main cat with them using\n",
    "\n",
    "```\n",
    "main_cat = mc.setup(locs=\"other_\")\n",
    "```\n",
    "\n",
    "If you want to use those catalogs and the default catalogs, you can do so with\n",
    "\n",
    "```\n",
    "main_cat = mc.setup(locs=[\"mc_\", \"other_\"])\n",
    "```\n",
    "\n",
    "You may instead set up with a local catalog file in which you input a string or Path of its location, for example,\n",
    "\n",
    "```\n",
    "main_cat = mc.setup(locs=\"path_to_catalog_file\")\n",
    "```\n",
    "\n",
    "Or, you can input a combination of these.\n",
    "\n",
    "For example, let's write a catalog file to demonstrate using a local catalog file:"
   ]
  },
  {
   "cell_type": "code",
   "execution_count": 4,
   "metadata": {},
   "outputs": [
    {
     "name": "stdout",
     "output_type": "stream",
     "text": [
      "['example_source']\n"
     ]
    }
   ],
   "source": [
    "with TemporaryDirectory() as tmpdirname:\n",
    "\n",
    "    tmpdir = PurePath(tmpdirname)\n",
    "\n",
    "    # Create a Dataset and save it\n",
    "    dsfname = PurePath(tmpdir) / \"example.nc\"\n",
    "    fname = PurePath(tmpdir) / 'example.yaml'\n",
    "\n",
    "    ds = xr.Dataset()\n",
    "    ds[\"time\"] = (\"Time\", np.arange(10),)\n",
    "    ds[\"Lat\"] = (\"y\", np.arange(10),)\n",
    "    ds[\"Lon\"] = (\"x\", np.arange(10),)\n",
    "    ds.to_netcdf(dsfname)\n",
    "\n",
    "    catalog_text = f\"\"\"\n",
    "    name: example\n",
    "    metadata:\n",
    "        alpha_shape: [4,50]  # dd, alpha\n",
    "    sources:\n",
    "        example_source:\n",
    "            args:\n",
    "                urlpath: {dsfname}\n",
    "            description: ''\n",
    "            driver: netcdf\n",
    "            metadata:\n",
    "                axis:\n",
    "                    T: Time\n",
    "                    X: x\n",
    "                    Y: y\n",
    "                standard_names:\n",
    "                    time: time\n",
    "                    latitude: Lat\n",
    "                    longitude: Lon\n",
    "                coords:\n",
    "                    - Lon\n",
    "                    - Lat\n",
    "                    - Time\n",
    "    \"\"\"\n",
    "    fp = open(fname, 'w')\n",
    "    fp.write(catalog_text) \n",
    "    fp.close()\n",
    "\n",
    "    main_cat = mc.setup(str(fname), override=True)\n",
    "    print(list(main_cat[\"example\"]))\n"
   ]
  },
  {
   "cell_type": "markdown",
   "metadata": {},
   "source": [
    "Alternatively you can read in and work with a single catalog file with having the structure of nested catalogs in `mc.setup()`. For that, you can simply read in a catalog file with the following, and still have access to all the associated functions.\n",
    "\n",
    "```\n",
    "mc.open_catalog(catalog_path)\n",
    "```"
   ]
  }
 ],
 "metadata": {
  "kernelspec": {
   "display_name": "Python 3.8.13 ('model_catalogs')",
   "language": "python",
   "name": "python3"
  },
  "language_info": {
   "codemirror_mode": {
    "name": "ipython",
    "version": 3
   },
   "file_extension": ".py",
   "mimetype": "text/x-python",
   "name": "python",
   "nbconvert_exporter": "python",
   "pygments_lexer": "ipython3",
   "version": "3.8.16"
  },
  "orig_nbformat": 4,
  "vscode": {
   "interpreter": {
    "hash": "d60fbfdb5b085fda3f57935957149928dfec10983d645db7b236e6ace1c376c1"
   }
  }
 },
 "nbformat": 4,
 "nbformat_minor": 2
}
